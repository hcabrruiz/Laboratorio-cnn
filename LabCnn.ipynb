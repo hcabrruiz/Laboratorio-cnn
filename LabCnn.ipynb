{
 "cells": [
  {
   "cell_type": "markdown",
   "metadata": {},
   "source": [
    "Tarea Redes Neuronales\n",
    "Integrantes\n",
    "- Gómez Fernando\n",
    "- Ruano Bairon\n",
    "- Ruiz Hugo"
   ]
  },
  {
   "cell_type": "markdown",
   "metadata": {},
   "source": [
    "# Instalar \n",
    "conda create -n APIDeepStreamlit anaconda python=3.7.7\n",
    "conda activate APIDeepStreamlit\n",
    "conda install ipykernel\n",
    "python -m ipykernel install --user --name APIDeepStreamlit --display-name \"APIDeepStreamlit\"\n",
    "conda install tensorflow-gpu==2.1.0 cudatoolkit=10.1\n",
    "pip install tensorflow==2.1.0\n",
    "pip install jupyter\n",
    "pip install keras==2.3.1\n",
    "pip install numpy scipy Pillow cython matplotlib scikit-image opencv-python h5py imgaug IPython[all] streamlit"
   ]
  },
  {
   "cell_type": "code",
   "execution_count": 218,
   "metadata": {},
   "outputs": [],
   "source": [
    "import tensorflow as tf\n",
    "from tensorflow.keras.applications.imagenet_utils import preprocess_input\n",
    "from tensorflow.keras import datasets,layers,models\n",
    "import matplotlib.pyplot as plt\n",
    "import pathlib\n",
    "import numpy as np\n",
    "import os\n",
    "import pickle \n",
    "from zipfile import ZipFile\n",
    "import streamlit as st\n",
    "from PIL import Image\n",
    "from skimage.transform import resize"
   ]
  },
  {
   "cell_type": "code",
   "execution_count": 219,
   "metadata": {},
   "outputs": [],
   "source": [
    "# Cargar archivo comprimido con todas las imágenes \n",
    "zip = ZipFile('64x64_SIGNS.zip')\n",
    "zip.extractall()"
   ]
  },
  {
   "cell_type": "code",
   "execution_count": 220,
   "metadata": {},
   "outputs": [],
   "source": [
    "#Función para cargar las imágenes\n",
    "def imgload(path=','):\n",
    "  temp = os.listdir(path)\n",
    "  img2 = []\n",
    "  img2.append(temp)\n",
    "  return img2"
   ]
  },
  {
   "cell_type": "code",
   "execution_count": 221,
   "metadata": {},
   "outputs": [],
   "source": [
    "ruta = os.getcwd()\n",
    "rutaTrain = os.path.join(ruta,'64x64_SIGNS/train_signs/')\n",
    "\n",
    "file_name = imgload(rutaTrain)\n",
    "x = file_name[0]\n",
    "x = np.array(x)"
   ]
  },
  {
   "cell_type": "code",
   "execution_count": 222,
   "metadata": {},
   "outputs": [],
   "source": [
    "#Cargar imágenes de entrenamiento con sus respectivas etiquetas\n",
    "train_data = []\n",
    "y_train = []\n",
    "for i in range(x.shape[0]):\n",
    "    train_data.append(plt.imread(os.path.join(rutaTrain,x[i])))\n",
    "    y_train.append((str(x[i])[0]))"
   ]
  },
  {
   "cell_type": "code",
   "execution_count": 302,
   "metadata": {
    "scrolled": true
   },
   "outputs": [
    {
     "data": {
      "text/plain": [
       "<matplotlib.image.AxesImage at 0x22b1a3699d0>"
      ]
     },
     "execution_count": 302,
     "metadata": {},
     "output_type": "execute_result"
    },
    {
     "data": {
      "image/png": "[encoded data removed]",
      "text/plain": [
       "<Figure size 432x288 with 1 Axes>"
      ]
     },
     "metadata": {
      "needs_background": "light"
     },
     "output_type": "display_data"
    }
   ],
   "source": [
    "#Mostrar una imagen cargada\n",
    "plt.imshow(train_data[500])"
   ]
  },
  {
   "cell_type": "code",
   "execution_count": 287,
   "metadata": {},
   "outputs": [],
   "source": [
    "#Creación del modelo y sus capas \n",
    "model1 = models.Sequential()\n",
    "model1.add(layers.Conv2D(filters=128,kernel_size=(3,3),activation='relu', input_shape=(64, 64,3)))\n",
    "model1.add(layers.MaxPool2D((2,2)))\n",
    "model1.add(layers.Conv2D(64,(2,2),activation='relu'))\n",
    "model1.add(layers.MaxPool2D((2,2)))\n",
    "model1.add(layers.Conv2D(64,(2,2),activation='relu'))\n",
    "model1.add(layers.MaxPool2D((2,2)))\n",
    "model1.add(layers.Conv2D(64,(2,2),activation='relu'))\n",
    "model1.add(layers.MaxPool2D((2,2)))\n",
    "model1.add(layers.Conv2D(64,(2,2),activation='relu'))\n",
    "model1.add(layers.MaxPool2D((2,2)))\n",
    "model1.add(layers.Flatten())\n",
    "model1.add(layers.Dense(64,activation='relu'))\n",
    "model1.add(layers.Dense(10))\n",
    "model1.add(layers.Dense(64,activation='relu'))\n",
    "model1.add(layers.Dense(10))\n",
    "model1.add(layers.Dense(64,activation='relu'))\n",
    "model1.add(layers.Dense(10))"
   ]
  },
  {
   "cell_type": "code",
   "execution_count": 288,
   "metadata": {},
   "outputs": [],
   "source": [
    "model1.compile(optimizer='adam',\n",
    "              loss=tf.keras.losses.SparseCategoricalCrossentropy(from_logits=True),\n",
    "              metrics=['accuracy'])"
   ]
  },
  {
   "cell_type": "code",
   "execution_count": 289,
   "metadata": {},
   "outputs": [],
   "source": [
    "train_data=np.array(train_data)\n",
    "for i in range(864):\n",
    "  for a in range(64):\n",
    "    for b in range(64):\n",
    "      for c in range(3):\n",
    "        train_data[i,a,b,c]=float(train_data[i,a,b,c]) \n",
    "train_data=train_data.tolist()\n",
    "for i in range(864):\n",
    "  y_train[i]=float(y_train[i])"
   ]
  },
  {
   "cell_type": "code",
   "execution_count": 290,
   "metadata": {},
   "outputs": [
    {
     "name": "stdout",
     "output_type": "stream",
     "text": [
      "Epoch 1/100\n",
      "27/27 [==============================] - 6s 201ms/step - loss: 3.1490 - accuracy: 0.1509\n",
      "Epoch 2/100\n",
      "27/27 [==============================] - 6s 209ms/step - loss: 1.8135 - accuracy: 0.2028\n",
      "Epoch 3/100\n",
      "27/27 [==============================] - 6s 214ms/step - loss: 1.7392 - accuracy: 0.2478\n",
      "Epoch 4/100\n",
      "27/27 [==============================] - 5s 198ms/step - loss: 1.6425 - accuracy: 0.3078\n",
      "Epoch 5/100\n",
      "27/27 [==============================] - 6s 205ms/step - loss: 1.4823 - accuracy: 0.3690\n",
      "Epoch 6/100\n",
      "27/27 [==============================] - 5s 197ms/step - loss: 1.4465 - accuracy: 0.3798\n",
      "Epoch 7/100\n",
      "27/27 [==============================] - 5s 198ms/step - loss: 1.2351 - accuracy: 0.4609\n",
      "Epoch 8/100\n",
      "27/27 [==============================] - 5s 202ms/step - loss: 1.0894 - accuracy: 0.5073\n",
      "Epoch 9/100\n",
      "27/27 [==============================] - 6s 206ms/step - loss: 0.9434 - accuracy: 0.5785\n",
      "Epoch 10/100\n",
      "27/27 [==============================] - 6s 204ms/step - loss: 0.7560 - accuracy: 0.6880\n",
      "Epoch 11/100\n",
      "27/27 [==============================] - 6s 209ms/step - loss: 0.7305 - accuracy: 0.6973\n",
      "Epoch 12/100\n",
      "27/27 [==============================] - 6s 205ms/step - loss: 0.6742 - accuracy: 0.7374\n",
      "Epoch 13/100\n",
      "27/27 [==============================] - 6s 205ms/step - loss: 0.6110 - accuracy: 0.7669\n",
      "Epoch 14/100\n",
      "27/27 [==============================] - 6s 212ms/step - loss: 0.3672 - accuracy: 0.8684\n",
      "Epoch 15/100\n",
      "27/27 [==============================] - 5s 203ms/step - loss: 0.4158 - accuracy: 0.8444\n",
      "Epoch 16/100\n",
      "27/27 [==============================] - 5s 204ms/step - loss: 0.3345 - accuracy: 0.8902\n",
      "Epoch 17/100\n",
      "27/27 [==============================] - 6s 208ms/step - loss: 0.2634 - accuracy: 0.9152\n",
      "Epoch 18/100\n",
      "27/27 [==============================] - 5s 201ms/step - loss: 0.2911 - accuracy: 0.8936\n",
      "Epoch 19/100\n",
      "27/27 [==============================] - 6s 207ms/step - loss: 0.2369 - accuracy: 0.9140\n",
      "Epoch 20/100\n",
      "27/27 [==============================] - 6s 207ms/step - loss: 0.1411 - accuracy: 0.9558\n",
      "Epoch 21/100\n",
      "27/27 [==============================] - 6s 205ms/step - loss: 0.1190 - accuracy: 0.9560\n",
      "Epoch 22/100\n",
      "27/27 [==============================] - 6s 210ms/step - loss: 0.0965 - accuracy: 0.9641\n",
      "Epoch 23/100\n",
      "27/27 [==============================] - 6s 204ms/step - loss: 0.0623 - accuracy: 0.9809\n",
      "Epoch 24/100\n",
      "27/27 [==============================] - 5s 202ms/step - loss: 0.0507 - accuracy: 0.9826\n",
      "Epoch 25/100\n",
      "27/27 [==============================] - 6s 209ms/step - loss: 0.0641 - accuracy: 0.9717\n",
      "Epoch 26/100\n",
      "27/27 [==============================] - 6s 208ms/step - loss: 0.1746 - accuracy: 0.9411\n",
      "Epoch 27/100\n",
      "27/27 [==============================] - 6s 208ms/step - loss: 0.1521 - accuracy: 0.9452\n",
      "Epoch 28/100\n",
      "27/27 [==============================] - 6s 213ms/step - loss: 0.1575 - accuracy: 0.9422\n",
      "Epoch 29/100\n",
      "27/27 [==============================] - 6s 210ms/step - loss: 0.0709 - accuracy: 0.9710\n",
      "Epoch 30/100\n",
      "27/27 [==============================] - 6s 209ms/step - loss: 0.1038 - accuracy: 0.9694\n",
      "Epoch 31/100\n",
      "27/27 [==============================] - 6s 206ms/step - loss: 0.1762 - accuracy: 0.9357\n",
      "Epoch 32/100\n",
      "27/27 [==============================] - 5s 192ms/step - loss: 0.1400 - accuracy: 0.9426\n",
      "Epoch 33/100\n",
      "27/27 [==============================] - 5s 199ms/step - loss: 0.0725 - accuracy: 0.97301s - loss: 0.0587 - accu\n",
      "Epoch 34/100\n",
      "27/27 [==============================] - 5s 181ms/step - loss: 0.1288 - accuracy: 0.9443\n",
      "Epoch 35/100\n",
      "27/27 [==============================] - 5s 173ms/step - loss: 0.0312 - accuracy: 0.9914\n",
      "Epoch 36/100\n",
      "27/27 [==============================] - 5s 174ms/step - loss: 0.0152 - accuracy: 0.9973\n",
      "Epoch 37/100\n",
      "27/27 [==============================] - 5s 179ms/step - loss: 0.0056 - accuracy: 0.9992\n",
      "Epoch 38/100\n",
      "27/27 [==============================] - 5s 181ms/step - loss: 0.0084 - accuracy: 0.9956\n",
      "Epoch 39/100\n",
      "27/27 [==============================] - 5s 173ms/step - loss: 0.0020 - accuracy: 1.0000\n",
      "Epoch 40/100\n",
      "27/27 [==============================] - 5s 183ms/step - loss: 0.0024 - accuracy: 1.0000\n",
      "Epoch 41/100\n",
      "27/27 [==============================] - 5s 182ms/step - loss: 0.0019 - accuracy: 1.0000\n",
      "Epoch 42/100\n",
      "27/27 [==============================] - 5s 195ms/step - loss: 8.1043e-04 - accuracy: 1.0000\n",
      "Epoch 43/100\n",
      "27/27 [==============================] - 5s 190ms/step - loss: 5.6682e-04 - accuracy: 1.0000\n",
      "Epoch 44/100\n",
      "27/27 [==============================] - 5s 193ms/step - loss: 9.2995e-04 - accuracy: 1.0000\n",
      "Epoch 45/100\n",
      "27/27 [==============================] - 5s 189ms/step - loss: 5.2950e-04 - accuracy: 1.0000\n",
      "Epoch 46/100\n",
      "27/27 [==============================] - 5s 200ms/step - loss: 0.0011 - accuracy: 1.0000\n",
      "Epoch 47/100\n",
      "27/27 [==============================] - 5s 203ms/step - loss: 5.8955e-04 - accuracy: 1.0000\n",
      "Epoch 48/100\n",
      "27/27 [==============================] - 5s 171ms/step - loss: 4.5893e-04 - accuracy: 1.0000\n",
      "Epoch 49/100\n",
      "27/27 [==============================] - 5s 170ms/step - loss: 3.9727e-04 - accuracy: 1.0000\n",
      "Epoch 50/100\n",
      "27/27 [==============================] - 5s 173ms/step - loss: 3.7217e-04 - accuracy: 1.0000\n",
      "Epoch 51/100\n",
      "27/27 [==============================] - 5s 191ms/step - loss: 2.7424e-04 - accuracy: 1.0000\n",
      "Epoch 52/100\n",
      "27/27 [==============================] - 6s 238ms/step - loss: 3.0058e-04 - accuracy: 1.0000\n",
      "Epoch 53/100\n",
      "27/27 [==============================] - 5s 181ms/step - loss: 3.8138e-04 - accuracy: 1.0000\n",
      "Epoch 54/100\n",
      "27/27 [==============================] - 5s 176ms/step - loss: 2.5177e-04 - accuracy: 1.0000\n",
      "Epoch 55/100\n",
      "27/27 [==============================] - 5s 189ms/step - loss: 1.8626e-04 - accuracy: 1.0000\n",
      "Epoch 56/100\n",
      "27/27 [==============================] - 5s 183ms/step - loss: 2.2757e-04 - accuracy: 1.00001s - loss: 2.1626e-0\n",
      "Epoch 57/100\n",
      "27/27 [==============================] - 5s 168ms/step - loss: 1.7516e-04 - accuracy: 1.0000\n",
      "Epoch 58/100\n",
      "27/27 [==============================] - 5s 168ms/step - loss: 2.4212e-04 - accuracy: 1.0000\n",
      "Epoch 59/100\n",
      "27/27 [==============================] - 5s 193ms/step - loss: 3.1028e-04 - accuracy: 1.0000\n",
      "Epoch 60/100\n",
      "27/27 [==============================] - 6s 222ms/step - loss: 2.7828e-04 - accuracy: 1.0000\n",
      "Epoch 61/100\n",
      "27/27 [==============================] - 5s 193ms/step - loss: 1.4956e-04 - accuracy: 1.0000\n",
      "Epoch 62/100\n",
      "27/27 [==============================] - 5s 176ms/step - loss: 1.7093e-04 - accuracy: 1.0000\n",
      "Epoch 63/100\n",
      "27/27 [==============================] - 6s 218ms/step - loss: 1.4941e-04 - accuracy: 1.0000\n",
      "Epoch 64/100\n",
      "27/27 [==============================] - 5s 170ms/step - loss: 1.5123e-04 - accuracy: 1.0000\n",
      "Epoch 65/100\n",
      "27/27 [==============================] - 5s 176ms/step - loss: 1.1041e-04 - accuracy: 1.0000\n",
      "Epoch 66/100\n",
      "27/27 [==============================] - 5s 199ms/step - loss: 1.2113e-04 - accuracy: 1.0000\n",
      "Epoch 67/100\n",
      "27/27 [==============================] - 5s 181ms/step - loss: 9.4772e-05 - accuracy: 1.0000\n",
      "Epoch 68/100\n",
      "27/27 [==============================] - 6s 211ms/step - loss: 9.2355e-05 - accuracy: 1.0000\n",
      "Epoch 69/100\n",
      "27/27 [==============================] - 5s 177ms/step - loss: 1.1745e-04 - accuracy: 1.0000\n",
      "Epoch 70/100\n",
      "27/27 [==============================] - 5s 176ms/step - loss: 1.2079e-04 - accuracy: 1.0000\n",
      "Epoch 71/100\n",
      "27/27 [==============================] - 5s 183ms/step - loss: 1.0826e-04 - accuracy: 1.0000\n",
      "Epoch 72/100\n",
      "27/27 [==============================] - 5s 187ms/step - loss: 9.1637e-05 - accuracy: 1.0000\n",
      "Epoch 73/100\n",
      "27/27 [==============================] - 5s 190ms/step - loss: 9.3524e-05 - accuracy: 1.0000\n",
      "Epoch 74/100\n",
      "27/27 [==============================] - 5s 202ms/step - loss: 7.0720e-05 - accuracy: 1.0000\n",
      "Epoch 75/100\n",
      "27/27 [==============================] - 5s 205ms/step - loss: 1.1693e-04 - accuracy: 1.0000\n",
      "Epoch 76/100\n",
      "27/27 [==============================] - 5s 199ms/step - loss: 8.2522e-05 - accuracy: 1.0000\n",
      "Epoch 77/100\n",
      "27/27 [==============================] - 5s 184ms/step - loss: 7.1289e-05 - accuracy: 1.0000\n",
      "Epoch 78/100\n",
      "27/27 [==============================] - 5s 185ms/step - loss: 6.5931e-05 - accuracy: 1.0000\n",
      "Epoch 79/100\n",
      "27/27 [==============================] - 5s 174ms/step - loss: 7.9573e-05 - accuracy: 1.0000\n",
      "Epoch 80/100\n",
      "27/27 [==============================] - 5s 173ms/step - loss: 7.0778e-05 - accuracy: 1.0000\n",
      "Epoch 81/100\n",
      "27/27 [==============================] - 5s 175ms/step - loss: 6.4603e-05 - accuracy: 1.0000\n",
      "Epoch 82/100\n",
      "27/27 [==============================] - 5s 176ms/step - loss: 7.6643e-05 - accuracy: 1.00000s - loss: 7.8032e-05 - accura\n",
      "Epoch 83/100\n",
      "27/27 [==============================] - 5s 177ms/step - loss: 5.8099e-05 - accuracy: 1.0000\n",
      "Epoch 84/100\n",
      "27/27 [==============================] - 5s 177ms/step - loss: 6.1634e-05 - accuracy: 1.00000s - loss: 6.1481e-05 - accuracy: 1.\n",
      "Epoch 85/100\n",
      "27/27 [==============================] - 5s 182ms/step - loss: 6.9923e-05 - accuracy: 1.0000\n",
      "Epoch 86/100\n",
      "27/27 [==============================] - 5s 178ms/step - loss: 5.0017e-05 - accuracy: 1.00001s - loss: 4.8712e-05 \n",
      "Epoch 87/100\n",
      "27/27 [==============================] - 5s 179ms/step - loss: 4.7945e-05 - accuracy: 1.0000\n",
      "Epoch 88/100\n",
      "27/27 [==============================] - 5s 182ms/step - loss: 5.5657e-05 - accuracy: 1.0000\n",
      "Epoch 89/100\n",
      "27/27 [==============================] - 5s 177ms/step - loss: 6.4416e-05 - accuracy: 1.0000\n",
      "Epoch 90/100\n",
      "27/27 [==============================] - 5s 179ms/step - loss: 7.3498e-05 - accuracy: 1.00001s - loss: 8.4600e-0\n",
      "Epoch 91/100\n",
      "27/27 [==============================] - 5s 179ms/step - loss: 4.7518e-05 - accuracy: 1.0000\n",
      "Epoch 92/100\n",
      "27/27 [==============================] - 5s 180ms/step - loss: 4.3932e-05 - accuracy: 1.0000\n",
      "Epoch 93/100\n",
      "27/27 [==============================] - 5s 178ms/step - loss: 5.8236e-05 - accuracy: 1.0000\n",
      "Epoch 94/100\n",
      "27/27 [==============================] - 5s 178ms/step - loss: 4.5179e-05 - accuracy: 1.0000\n",
      "Epoch 95/100\n",
      "27/27 [==============================] - 5s 180ms/step - loss: 4.1913e-05 - accuracy: 1.0000\n",
      "Epoch 96/100\n",
      "27/27 [==============================] - 5s 177ms/step - loss: 5.0785e-05 - accuracy: 1.0000\n",
      "Epoch 97/100\n",
      "27/27 [==============================] - 5s 189ms/step - loss: 3.9814e-05 - accuracy: 1.00002s - loss: 3.4\n",
      "Epoch 98/100\n",
      "27/27 [==============================] - 5s 180ms/step - loss: 4.0947e-05 - accuracy: 1.0000\n",
      "Epoch 99/100\n",
      "27/27 [==============================] - 5s 171ms/step - loss: 3.8568e-05 - accuracy: 1.0000\n",
      "Epoch 100/100\n",
      "27/27 [==============================] - 5s 173ms/step - loss: 4.2053e-05 - accuracy: 1.0000\n"
     ]
    }
   ],
   "source": [
    "#Entrenamiento del modelo\n",
    "history=model1.fit(train_data,y_train,epochs=100)"
   ]
  },
  {
   "cell_type": "code",
   "execution_count": 291,
   "metadata": {},
   "outputs": [
    {
     "data": {
      "image/png": "[encoded data removed]",
      "text/plain": [
       "<Figure size 432x288 with 1 Axes>"
      ]
     },
     "metadata": {
      "needs_background": "light"
     },
     "output_type": "display_data"
    }
   ],
   "source": [
    "# Gráfica de la historia del modelo\n",
    "plt.plot(history.history['accuracy'],label='accuracy')\n",
    "plt.xlabel('Epochs')\n",
    "plt.ylabel('Accuracy')\n",
    "plt.legend()\n",
    "plt.show()"
   ]
  },
  {
   "cell_type": "code",
   "execution_count": 292,
   "metadata": {},
   "outputs": [],
   "source": [
    "#Cargar datos para el segundo modelo\n",
    "file_name = imgload(rutaTrain)\n",
    "x1 = file_name[0]\n",
    "x1 = np.array(x1)\n",
    "\n",
    "train_data2 = []\n",
    "y_train2 = []\n",
    "for i in range(x1.shape[0]):\n",
    "  train_data2.append(plt.imread(os.path.join(rutaTrain,x[i])))\n",
    "  y_train2.append((str(x1[i])[0]))"
   ]
  },
  {
   "cell_type": "code",
   "execution_count": 293,
   "metadata": {},
   "outputs": [
    {
     "data": {
      "text/plain": [
       "<matplotlib.image.AxesImage at 0x22b19176b50>"
      ]
     },
     "execution_count": 293,
     "metadata": {},
     "output_type": "execute_result"
    },
    {
     "data": {
      "image/png": "[encoded data removed]",
      "text/plain": [
       "<Figure size 432x288 with 1 Axes>"
      ]
     },
     "metadata": {
      "needs_background": "light"
     },
     "output_type": "display_data"
    }
   ],
   "source": [
    "# Mostrar una imagen cargada\n",
    "plt.imshow(train_data[7])"
   ]
  },
  {
   "cell_type": "code",
   "execution_count": 294,
   "metadata": {},
   "outputs": [],
   "source": [
    "train_data=np.array(train_data)\n",
    "for i in range(120):\n",
    "  for a in range(64):\n",
    "    for b in range(64):\n",
    "      for c in range(3):\n",
    "        train_data[i,a,b,c]=float(train_data[i,a,b,c]) \n",
    "train_data=train_data.tolist()\n",
    "for i in range(120):\n",
    "  y_train[i]=float(y_train[i])"
   ]
  },
  {
   "cell_type": "code",
   "execution_count": 295,
   "metadata": {},
   "outputs": [
    {
     "data": {
      "image/png": "[encoded data removed]",
      "text/plain": [
       "<Figure size 432x288 with 1 Axes>"
      ]
     },
     "metadata": {
      "needs_background": "light"
     },
     "output_type": "display_data"
    }
   ],
   "source": [
    "plt.plot(history2.history['accuracy'],label='accuracy')\n",
    "plt.xlabel('Epochs')\n",
    "plt.ylabel('Accuracy')\n",
    "plt.legend()\n",
    "plt.show()"
   ]
  },
  {
   "cell_type": "code",
   "execution_count": 296,
   "metadata": {
    "scrolled": true
   },
   "outputs": [],
   "source": [
    "# Validación y comparación de los resultados de los dos modelos\n",
    "#y_pred1 = model1.predict(train_data)\n",
    "#y_pred2 = model2.predict(train_data) \n"
   ]
  },
  {
   "cell_type": "code",
   "execution_count": 297,
   "metadata": {},
   "outputs": [
    {
     "name": "stdout",
     "output_type": "stream",
     "text": [
      "INFO:tensorflow:Assets written to: C:\\Users\\Acer\\Desktop\\Universidad\\8vo\\Automatización\\Tarea redes\\Modelo\\assets\n"
     ]
    },
    {
     "name": "stderr",
     "output_type": "stream",
     "text": [
      "2021-02-08 04:13:01.775 INFO    tensorflow: Assets written to: C:\\Users\\Acer\\Desktop\\Universidad\\8vo\\Automatización\\Tarea redes\\Modelo\\assets\n"
     ]
    }
   ],
   "source": [
    "tf.saved_model.save(model1, os.path.join(ruta,'Modelo'))\n"
   ]
  },
  {
   "cell_type": "code",
   "execution_count": 298,
   "metadata": {},
   "outputs": [
    {
     "data": {
      "text/plain": [
       "array([  0.10335889,   6.4355817 ,  23.556286  ,   2.1527238 ,\n",
       "        11.334926  ,  -1.207221  , -23.41453   , -30.698523  ,\n",
       "       -17.139475  , -29.346754  ], dtype=float32)"
      ]
     },
     "execution_count": 298,
     "metadata": {},
     "output_type": "execute_result"
    }
   ],
   "source": [
    "y_pred1[400]"
   ]
  },
  {
   "cell_type": "code",
   "execution_count": 299,
   "metadata": {},
   "outputs": [
    {
     "data": {
      "text/plain": [
       "<matplotlib.image.AxesImage at 0x22b1748abe0>"
      ]
     },
     "execution_count": 299,
     "metadata": {},
     "output_type": "execute_result"
    },
    {
     "data": {
      "image/png": "[encoded data removed]",
      "text/plain": [
       "<Figure size 432x288 with 1 Axes>"
      ]
     },
     "metadata": {
      "needs_background": "light"
     },
     "output_type": "display_data"
    }
   ],
   "source": [
    "plt.imshow(train_data[400])"
   ]
  }
 ],
 "metadata": {
  "kernelspec": {
   "display_name": "Python 3",
   "language": "python",
   "name": "python3"
  },
  "language_info": {
   "codemirror_mode": {
    "name": "ipython",
    "version": 3
   },
   "file_extension": ".py",
   "mimetype": "text/x-python",
   "name": "python",
   "nbconvert_exporter": "python",
   "pygments_lexer": "ipython3",
   "version": "3.8.5"
  }
 },
 "nbformat": 4,
 "nbformat_minor": 2
}
